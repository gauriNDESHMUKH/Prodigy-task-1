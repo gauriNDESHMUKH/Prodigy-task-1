{
  "cells": [
    {
      "cell_type": "markdown",
      "metadata": {
        "id": "view-in-github",
        "colab_type": "text"
      },
      "source": [
        "<a href=\"https://colab.research.google.com/github/ajitjain04/PRODIGY_DS_1/blob/main/INTERNSHIP_TASK_1.ipynb\" target=\"_parent\"><img src=\"https://colab.research.google.com/assets/colab-badge.svg\" alt=\"Open In Colab\"/></a>"
      ]
    },
    {
      "cell_type": "code",
      "source": [
        "import pandas as pd\n",
        "import matplotlib.pyplot as plt"
      ],
      "metadata": {
        "id": "s2cAc6UPFk7g"
      },
      "execution_count": null,
      "outputs": []
    },
    {
      "cell_type": "code",
      "source": [
        "\n",
        "# Read data\n",
        "data = pd.read_csv(\"/content/512599.csv\")"
      ],
      "metadata": {
        "id": "2XEmdavtFoFC"
      },
      "execution_count": null,
      "outputs": []
    },
    {
      "cell_type": "code",
      "source": [
        "# Display first few rows of the dataframe\n",
        "print(data.head())"
      ],
      "metadata": {
        "id": "LC3x1wbbFvAB",
        "outputId": "ad3c4757-dcb7-48c1-e3b8-eb3efc5bd506",
        "colab": {
          "base_uri": "https://localhost:8080/"
        }
      },
      "execution_count": null,
      "outputs": [
        {
          "output_type": "stream",
          "name": "stdout",
          "text": [
            "               Date  Open Price  High Price  Low Price  Close Price  \\\n",
            "0    1-January-2024     2850.00     2947.80    2842.05       2916.9   \n",
            "1  29-December-2023     2820.25     2862.00    2803.00       2849.0   \n",
            "2  28-December-2023     2853.05     2867.45    2801.40       2812.5   \n",
            "3  27-December-2023     2880.00     2895.95    2835.00       2842.8   \n",
            "4  26-December-2023     2817.00     2892.90    2799.70       2868.8   \n",
            "\n",
            "           WAP  No.of Shares  No. of Trades  Total Turnover (Rs.)  \\\n",
            "0  2915.238902        314472          17551           916761008.0   \n",
            "1  2839.574589        173611           9396           492981384.0   \n",
            "2  2833.193880         75717           4382           214520941.0   \n",
            "3  2854.616880        126454           8820           360977723.0   \n",
            "4  2859.335150         76342           6358           218287364.0   \n",
            "\n",
            "   Deliverable Quantity  % Deli. Qty to Traded Qty  Spread High-Low  \\\n",
            "0                101499                      32.28           105.75   \n",
            "1                 59933                      34.52            59.00   \n",
            "2                 25993                      34.33            66.05   \n",
            "3                 33567                      26.54            60.95   \n",
            "4                 14461                      18.94            93.20   \n",
            "\n",
            "   Spread Close-Open  \n",
            "0              66.90  \n",
            "1              28.75  \n",
            "2             -40.55  \n",
            "3             -37.20  \n",
            "4              51.80  \n"
          ]
        }
      ]
    },
    {
      "cell_type": "code",
      "source": [
        "# Plot histogram\n",
        "data.rename(columns={'Low Price': 'Low_Price'}, inplace=True)\n",
        "plt.hist(data['Low_Price'], bins=20, color='skyblue', edgecolor='black')\n",
        "\n",
        "plt.xlabel('Low Price')\n",
        "plt.ylabel('Frequency')\n",
        "plt.title('Histogram of Low Price')\n",
        "plt.show()"
      ],
      "metadata": {
        "id": "V_py61DxGG-n",
        "outputId": "fdda6eb0-6f35-41ea-ffa2-5d92bb31363a",
        "colab": {
          "base_uri": "https://localhost:8080/",
          "height": 472
        }
      },
      "execution_count": null,
      "outputs": [
        {
          "output_type": "display_data",
          "data": {
            "text/plain": [
              "<Figure size 640x480 with 1 Axes>"
            ],
            "image/png": "[encoded data removed]"
          },
          "metadata": {}
        }
      ]
    }
  ],
  "metadata": {
    "colab": {
      "provenance": [],
      "include_colab_link": true
    },
    "kernelspec": {
      "display_name": "Python 3",
      "name": "python3"
    }
  },
  "nbformat": 4,
  "nbformat_minor": 0
}